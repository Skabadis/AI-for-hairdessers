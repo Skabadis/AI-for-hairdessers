{
 "cells": [
  {
   "cell_type": "code",
   "execution_count": null,
   "metadata": {},
   "outputs": [],
   "source": [
    "import datetime\n",
    "import os.path\n",
    "\n",
    "from google.auth.transport.requests import Request\n",
    "from google.oauth2.credentials import Credentials\n",
    "from google_auth_oauthlib.flow import InstalledAppFlow\n",
    "from googleapiclient.discovery import build\n",
    "from googleapiclient.errors import HttpError\n",
    "\n",
    "# If modifying these scopes, delete the file token.json.\n",
    "SCOPES = [\"https://www.googleapis.com/auth/calendar\"]"
   ]
  },
  {
   "cell_type": "code",
   "execution_count": null,
   "metadata": {},
   "outputs": [],
   "source": [
    "def get_creds(SCOPES):\n",
    "    creds = None\n",
    "    # The file token.json stores the user's access and refresh tokens, and is\n",
    "    # created automatically when the authorization flow completes for the first\n",
    "    # time.\n",
    "    if os.path.exists(\"token.json\"):\n",
    "        creds = Credentials.from_authorized_user_file(\"token.json\", SCOPES)\n",
    "        print(\"path exists\")\n",
    "        print(creds)\n",
    "        # If there are no (valid) credentials available, let the user log in.\n",
    "    if not creds or not creds.valid:\n",
    "        if creds and creds.expired and creds.refresh_token:\n",
    "            creds.refresh(Request())\n",
    "        else:\n",
    "            flow = InstalledAppFlow.from_client_secrets_file(\n",
    "                \"../credentials.json\", SCOPES\n",
    "            )\n",
    "            creds = flow.run_local_server(port=0)\n",
    "        # Save the credentials for the next run\n",
    "        with open(\"token.json\", \"w\") as token:\n",
    "            token.write(creds.to_json())\n",
    "    print(creds)\n",
    "    return creds"
   ]
  },
  {
   "cell_type": "code",
   "execution_count": null,
   "metadata": {},
   "outputs": [],
   "source": [
    "def get_events(creds):\n",
    "  \"\"\"Shows basic usage of the Google Calendar API.\n",
    "  Prints the start and name of the next 10 events on the user's calendar.\n",
    "  \"\"\"\n",
    "  try:\n",
    "    service = build(\"calendar\", \"v3\", credentials=creds)\n",
    "\n",
    "    # Call the Calendar API\n",
    "    now = datetime.datetime.utcnow().isoformat() + \"Z\"  # 'Z' indicates UTC time\n",
    "    print(\"Getting the upcoming 10 events\")\n",
    "    events_result = (\n",
    "        service.events()\n",
    "        .list(\n",
    "            calendarId=\"primary\",\n",
    "            timeMin=now,\n",
    "            maxResults=10,\n",
    "            singleEvents=True,\n",
    "            orderBy=\"startTime\",\n",
    "        )\n",
    "        .execute()\n",
    "    )\n",
    "    events = events_result.get(\"items\", [])\n",
    "\n",
    "    if not events:\n",
    "      print(\"No upcoming events found.\")\n",
    "      return\n",
    "\n",
    "    # Prints the start and name of the next 10 events\n",
    "    for event in events:\n",
    "      start = event[\"start\"].get(\"dateTime\", event[\"start\"].get(\"date\"))\n",
    "      print(start, event[\"summary\"])\n",
    "\n",
    "  except HttpError as error:\n",
    "    print(f\"An error occurred: {error}\")\n",
    "  return events  "
   ]
  },
  {
   "cell_type": "code",
   "execution_count": null,
   "metadata": {},
   "outputs": [],
   "source": [
    "def add_event(event, creds):\n",
    "  try:\n",
    "    service = build(\"calendar\", \"v3\", credentials=creds)\n",
    "\n",
    "    # Call the Calendar API\n",
    "    now = datetime.datetime.utcnow().isoformat() + \"Z\"  # 'Z' indicates UTC time\n",
    "    event = service.events().insert(calendarId='primary', body=event).execute()\n",
    "    print('Event created: %s' % (event.get('htmlLink')))\n",
    "    \n",
    "  except HttpError as error:\n",
    "    print(f\"An error occurred: {error}\")"
   ]
  },
  {
   "cell_type": "code",
   "execution_count": null,
   "metadata": {},
   "outputs": [],
   "source": [
    "creds = get_creds(SCOPES)"
   ]
  },
  {
   "cell_type": "code",
   "execution_count": null,
   "metadata": {},
   "outputs": [],
   "source": [
    "events = get_events(creds)"
   ]
  },
  {
   "cell_type": "code",
   "execution_count": null,
   "metadata": {},
   "outputs": [],
   "source": [
    "event = {\n",
    "  'summary': 'Rdv - Badr ajouté automatiquement',\n",
    "#   'location': '800 Howard St., San Francisco, CA 94103',\n",
    "  'description': 'Coupe homme tondeuse',\n",
    "  'start': {\n",
    "    'dateTime': '2024-05-24T11:00:00-07:00',\n",
    "    'timeZone': 'Europe/Paris',\n",
    "  },\n",
    "  'end': {\n",
    "    'dateTime': '2024-05-24T11:30:00-07:00',\n",
    "    'timeZone': 'Europe/Paris',\n",
    "  },\n",
    "#   'recurrence': [\n",
    "#     'RRULE:FREQ=DAILY;COUNT=2'\n",
    "#   ],\n",
    "  'attendees': [\n",
    "    {'email': 'badrelidrissimokdad12@gmail.com'},\n",
    "    # {'email': 'sbrin@example.com'},\n",
    "  ],\n",
    "  'reminders': {\n",
    "    'useDefault': False,\n",
    "    'overrides': [\n",
    "      {'method': 'email', 'minutes': 24 * 60},\n",
    "      {'method': 'popup', 'minutes': 10},\n",
    "    ],\n",
    "  },\n",
    "}"
   ]
  },
  {
   "cell_type": "code",
   "execution_count": null,
   "metadata": {},
   "outputs": [],
   "source": [
    "add_event(event, creds)"
   ]
  },
  {
   "cell_type": "code",
   "execution_count": null,
   "metadata": {},
   "outputs": [],
   "source": []
  }
 ],
 "metadata": {
  "kernelspec": {
   "display_name": "Python 3 (ipykernel)",
   "language": "python",
   "name": "python3"
  },
  "language_info": {
   "codemirror_mode": {
    "name": "ipython",
    "version": 3
   },
   "file_extension": ".py",
   "mimetype": "text/x-python",
   "name": "python",
   "nbconvert_exporter": "python",
   "pygments_lexer": "ipython3",
   "version": "3.12.3"
  }
 },
 "nbformat": 4,
 "nbformat_minor": 4
}
